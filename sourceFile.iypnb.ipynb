{
 "cells": [
  {
   "cell_type": "code",
   "execution_count": 1,
   "metadata": {},
   "outputs": [],
   "source": [
    "import numpy as np \n",
    "import cv2\n",
    "\n",
    "import tensorflow as tf\n",
    "from tensorflow.keras.models import Sequential\n",
    "from tensorflow.keras.layers import Dense\n",
    "\n",
    "\n",
    "from sklearn.linear_model import LinearRegression \n",
    "from sklearn.preprocessing import StandardScaler , PolynomialFeatures \n",
    "from sklearn.model_selection import train_test_split \n",
    "from sklearn.metrics import mean_squared_error\n",
    "\n",
    "\n",
    "import tensorflow as tf\n",
    "\n",
    "\n",
    "\n",
    "np.set_printoptions(precision=2)\n",
    "\n",
    "tf.get_logger().setLevel('ERROR')\n",
    "tf.autograph.set_verbosity(0)\n"
   ]
  },
  {
   "cell_type": "code",
   "execution_count": 2,
   "metadata": {},
   "outputs": [
    {
     "name": "stdout",
     "output_type": "stream",
     "text": [
      "Original shape of x: (98, 100, 100)\n",
      "(98, 1)\n",
      "(98, 10000)\n"
     ]
    }
   ],
   "source": [
    "\n",
    "\n",
    "x = np.load('feature.npy', allow_pickle=True)\n",
    "y = np.load('person.npy', allow_pickle=True)\n",
    "\n",
    "# x = np.expand_dims(x, axis=1)\n",
    "y = np.expand_dims(y, axis=1)\n",
    "\n",
    "# Check the shape of x\n",
    "print(f\"Original shape of x: {x.shape}\")\n",
    "\n",
    "# Reshape x to the desired shape\n",
    "x = np.reshape(x, (x.shape[0], -1))\n",
    "\n",
    "print(y.shape)\n",
    "print(x.shape)\n",
    "\n",
    "\n",
    "\n"
   ]
  },
  {
   "cell_type": "code",
   "execution_count": 3,
   "metadata": {},
   "outputs": [],
   "source": [
    "x_train,x_,y_train,y_ = train_test_split(x,y,test_size=0.4,random_state=1)\n",
    "\n",
    "x_cv, x_test,y_cv,y_test = train_test_split(x_,y_,test_size=0.5,random_state=1)\n",
    "\n",
    "del x_, y_\n",
    "\n",
    "\n"
   ]
  },
  {
   "cell_type": "code",
   "execution_count": 4,
   "metadata": {},
   "outputs": [],
   "source": [
    "\n",
    "Scaler = StandardScaler()\n",
    "\n",
    "poly = PolynomialFeatures( 1 , include_bias=False)\n",
    "\n",
    "x_train_mapped = poly.fit_transform(x_train)\n",
    "x_cv_mapped = poly.transform(x_cv)\n",
    "x_test_mapped = poly.transform(x_test)\n",
    "\n",
    "x_train_mapped_scaled = Scaler.fit_transform(x_train_mapped)\n",
    "x_cv_mapped_scaled = Scaler.transform(x_cv_mapped)\n",
    "x_test_mapped_scaled = Scaler.transform(x_test_mapped)\n",
    "\n"
   ]
  },
  {
   "cell_type": "code",
   "execution_count": 5,
   "metadata": {},
   "outputs": [],
   "source": [
    "model = Sequential([\n",
    "    \n",
    "    Dense(25,activation= 'relu'),\n",
    "    Dense(15,activation='relu'),\n",
    "    Dense(10,activation='relu'),\n",
    "    Dense(1,activation='linear')\n",
    "    \n",
    "],\n",
    "  name= 'model'\n",
    "  )\n",
    "\n"
   ]
  },
  {
   "cell_type": "code",
   "execution_count": 6,
   "metadata": {},
   "outputs": [
    {
     "name": "stdout",
     "output_type": "stream",
     "text": [
      "\u001b[1m1/1\u001b[0m \u001b[32m━━━━━━━━━━━━━━━━━━━━\u001b[0m\u001b[37m\u001b[0m \u001b[1m0s\u001b[0m 65ms/step\n",
      "1.1499146223068237\n"
     ]
    }
   ],
   "source": [
    "\n",
    "# Ensure the numpy arrays have a consistent data type\n",
    "x_train_mapped_scaled = x_train_mapped_scaled.astype(np.float32)\n",
    "x_cv_mapped_scaled = x_cv_mapped_scaled.astype(np.float32)\n",
    "y_train = y_train.astype(np.float32)\n",
    "y_cv = y_cv.astype(np.float32)\n",
    "\n",
    "model.compile(\n",
    "    loss='mse',\n",
    "    optimizer='adam',\n",
    ")\n",
    "\n",
    "model.fit(x_train_mapped_scaled, y_train, epochs=10, verbose=0)\n",
    "\n",
    "yhat = model.predict(x_cv_mapped_scaled)\n",
    "cv_mse = mean_squared_error(y_cv, yhat)/2\n",
    "\n",
    "print(cv_mse)\n"
   ]
  },
  {
   "cell_type": "code",
   "execution_count": 7,
   "metadata": {},
   "outputs": [
    {
     "data": {
      "text/plain": [
       "\"\\n\\npeople = ['klay thompson' ,'kyrie irving', 'lebron james','SGA']\\ntext =''\\n\\ninput_data = np.expand_dims(x_test_mapped_scaled[0], axis=0)\\npredicted_y = model.predict(input_data)\\nprint(people[int(y_test[0])])\\n\\nif -0.5<=predicted_y<=0.5 :text =people[0]\\nelif 0.5<predicted_y<=1.5 :text =people[1]\\nelif 1.5<predicted_y<=2.5 :text =people[2]\\nelif 2.5<predicted_y<=3.5 :text =people[3]\\n\\nimg =np.reshape(input_data,(1,100,100))\\nprint(img.shape)\\n\\nimg=input_data.astype(np.uint8)\\n\\nimg =cv2.putText(img ,text,(0,img.shape[1]-10),cv2.FONT_HERSHEY_COMPLEX_SMALL,1,(0,255,0),1)\\nimg\\n\\ncv2.imshow('predicted image',img)\\ncv2.waitKey(0)\\ncv2.destroyAllWindows()\\n\""
      ]
     },
     "execution_count": 7,
     "metadata": {},
     "output_type": "execute_result"
    }
   ],
   "source": [
    "'''\n",
    "\n",
    "people = ['klay thompson' ,'kyrie irving', 'lebron james','SGA']\n",
    "text =''\n",
    "\n",
    "input_data = np.expand_dims(x_test_mapped_scaled[0], axis=0)\n",
    "predicted_y = model.predict(input_data)\n",
    "print(people[int(y_test[0])])\n",
    "\n",
    "if -0.5<=predicted_y<=0.5 :text =people[0]\n",
    "elif 0.5<predicted_y<=1.5 :text =people[1]\n",
    "elif 1.5<predicted_y<=2.5 :text =people[2]\n",
    "elif 2.5<predicted_y<=3.5 :text =people[3]\n",
    "\n",
    "img =np.reshape(input_data,(1,100,100))\n",
    "print(img.shape)\n",
    "\n",
    "img=input_data.astype(np.uint8)\n",
    "\n",
    "img =cv2.putText(img ,text,(0,img.shape[1]-10),cv2.FONT_HERSHEY_COMPLEX_SMALL,1,(0,255,0),1)\n",
    "img\n",
    "\n",
    "cv2.imshow('predicted image',img)\n",
    "cv2.waitKey(0)\n",
    "cv2.destroyAllWindows()\n",
    "'''"
   ]
  },
  {
   "cell_type": "code",
   "execution_count": 11,
   "metadata": {},
   "outputs": [
    {
     "name": "stdout",
     "output_type": "stream",
     "text": [
      "\u001b[1m1/1\u001b[0m \u001b[32m━━━━━━━━━━━━━━━━━━━━\u001b[0m\u001b[37m\u001b[0m \u001b[1m0s\u001b[0m 34ms/step\n",
      "kyrie irving\n"
     ]
    },
    {
     "name": "stderr",
     "output_type": "stream",
     "text": [
      "C:\\Users\\a2\\AppData\\Local\\Temp\\ipykernel_14776\\230226907.py:10: DeprecationWarning: Conversion of an array with ndim > 0 to a scalar is deprecated, and will error in future. Ensure you extract a single element from your array before performing this operation. (Deprecated NumPy 1.25.)\n",
      "  print(people[int(y_test[0])])  # Corrected this line\n"
     ]
    },
    {
     "data": {
      "text/plain": [
       "True"
      ]
     },
     "execution_count": 11,
     "metadata": {},
     "output_type": "execute_result"
    }
   ],
   "source": [
    "import numpy as np\n",
    "import cv2\n",
    "\n",
    "people = ['klay thompson', 'kyrie irving', 'lebron james', 'SGA']\n",
    "text = ''\n",
    "\n",
    "# Assuming x_test_mapped_scaled and model are already defined\n",
    "input_data = np.expand_dims(x_test_mapped_scaled[0], axis=0)\n",
    "predicted_y = model.predict(input_data)\n",
    "print(people[int(y_test[0])])  # Corrected this line\n",
    "\n",
    "if -0.5 <= predicted_y <= 0.5:\n",
    "    text = people[0]\n",
    "elif 0.5 < predicted_y <= 1.5:\n",
    "    text = people[1]\n",
    "elif 1.5 < predicted_y <= 2.5:\n",
    "    text = people[2]\n",
    "elif 2.5 < predicted_y <= 3.5:\n",
    "    text = people[3]\n",
    "\n",
    "\n",
    "img = x_test[0].reshape((100, 100))  \n",
    "img = img.astype(np.uint8)\n",
    "\n",
    "# Add text to the image\n",
    "cv2.putText(img, text, (0, img.shape[1] - 10), cv2.FONT_HERSHEY_COMPLEX_SMALL, 1, (0, 255, 0), 1)\n",
    "\n",
    "# Write the image to a file\n",
    "cv2.imwrite('image.jpg', img)\n"
   ]
  },
  {
   "cell_type": "code",
   "execution_count": 13,
   "metadata": {},
   "outputs": [],
   "source": [
    "final_pic = cv2.imread('image.jpg')\n",
    "cv2.imshow('predicted image', final_pic)\n",
    "cv2.waitKey(0)\n",
    "cv2.destroyAllWindows()"
   ]
  },
  {
   "cell_type": "code",
   "execution_count": null,
   "metadata": {},
   "outputs": [],
   "source": []
  }
 ],
 "metadata": {
  "kernelspec": {
   "display_name": "Python 3",
   "language": "python",
   "name": "python3"
  },
  "language_info": {
   "codemirror_mode": {
    "name": "ipython",
    "version": 3
   },
   "file_extension": ".py",
   "mimetype": "text/x-python",
   "name": "python",
   "nbconvert_exporter": "python",
   "pygments_lexer": "ipython3",
   "version": "3.12.3"
  }
 },
 "nbformat": 4,
 "nbformat_minor": 4
}
