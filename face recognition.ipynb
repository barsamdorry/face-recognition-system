{
 "cells": [
  {
   "cell_type": "code",
   "execution_count": 1,
   "metadata": {},
   "outputs": [],
   "source": [
    "import cv2\n",
    "import cv2.data\n",
    "import numpy as np\n",
    "import os \n",
    "\n",
    "people = ['klay thompson' ,'kyrie irving', 'lebron james','SGA']\n",
    "feature =[]\n",
    "person =[]\n",
    "dir = r'C:\\Users\\a2\\Desktop\\ai workspace\\face recognotion\\Characters'\n",
    "\n",
    "haar_cascade = cv2.CascadeClassifier(cv2.data.haarcascades +'haarcascade_frontalface_default.xml')\n",
    "\n"
   ]
  },
  {
   "cell_type": "code",
   "execution_count": 2,
   "metadata": {},
   "outputs": [],
   "source": [
    "def pad_image_to_500x500(image_list):\n",
    "    # Convert the list to a numpy array\n",
    "    image = np.array(image_list)\n",
    "\n",
    "    # Get the original dimensions of the image\n",
    "    original_height, original_width = image.shape\n",
    "\n",
    "    # Calculate the padding needed to make the image 500x500\n",
    "    pad_height = max(0, 50 - original_height)\n",
    "    pad_width = max(0, 50 - original_width)\n",
    "\n",
    "    # Calculate padding for top, bottom, left, and right\n",
    "    pad_top = pad_height // 2\n",
    "    pad_bottom = pad_height - pad_top\n",
    "    pad_left = pad_width // 2\n",
    "    pad_right = pad_width - pad_left\n",
    "\n",
    "    # Pad the image with zeros\n",
    "    padded_image = np.pad(image, ((pad_top, pad_bottom), (pad_left, pad_right)), mode='constant', constant_values=0)\n",
    "\n",
    "    return padded_image"
   ]
  },
  {
   "cell_type": "code",
   "execution_count": null,
   "metadata": {},
   "outputs": [],
   "source": [
    "\n",
    "\n",
    "\n",
    "def find_roi():\n",
    "    for person_name in people:\n",
    "        link = os.path.join(dir, person_name)\n",
    "        label = people.index(person_name)\n",
    "\n",
    "        for img in os.listdir(link):\n",
    "            img_path = os.path.join(link, img)\n",
    "\n",
    "            train_img = cv2.imread(img_path)\n",
    "            \n",
    "            gray = cv2.cvtColor(train_img, cv2.COLOR_BGR2GRAY)\n",
    "\n",
    "            face_rect = haar_cascade.detectMultiScale(gray, scaleFactor=1.1, minNeighbors=4)\n",
    "\n",
    "            for (x, y, w, h) in face_rect:\n",
    "                roi_img = gray[y:y+h, x:x+w]\n",
    "                roi_img =pad_image_to_500x500(roi_img)\n",
    "                roi_img =cv2.resize(roi_img,(100,100))\n",
    "                #cv2.imshow('img',roi_img)\n",
    "                #cv2.waitKey(0)\n",
    "                #cv2.destroyAllWindows()\n",
    "                feature.append(roi_img)\n",
    "                person.append(label)\n",
    "                \n",
    "find_roi()\n",
    "\n",
    "\n"
   ]
  },
  {
   "cell_type": "code",
   "execution_count": 4,
   "metadata": {},
   "outputs": [],
   "source": [
    "feature= np.array(feature,dtype='object')\n",
    "person = np.array (person,dtype='object')\n",
    "np.save('feature.npy',feature)\n",
    "np.save('person.npy',person)"
   ]
  },
  {
   "cell_type": "code",
   "execution_count": null,
   "metadata": {},
   "outputs": [],
   "source": []
  }
 ],
 "metadata": {
  "kernelspec": {
   "display_name": "Python 3",
   "language": "python",
   "name": "python3"
  },
  "language_info": {
   "codemirror_mode": {
    "name": "ipython",
    "version": 3
   },
   "file_extension": ".py",
   "mimetype": "text/x-python",
   "name": "python",
   "nbconvert_exporter": "python",
   "pygments_lexer": "ipython3",
   "version": "3.12.3"
  }
 },
 "nbformat": 4,
 "nbformat_minor": 2
}
